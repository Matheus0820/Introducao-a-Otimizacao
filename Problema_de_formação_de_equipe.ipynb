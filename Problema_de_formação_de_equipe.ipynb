{
  "nbformat": 4,
  "nbformat_minor": 0,
  "metadata": {
    "colab": {
      "provenance": [],
      "authorship_tag": "ABX9TyPMeIqbfV+FusdcvxLXuArK",
      "include_colab_link": true
    },
    "kernelspec": {
      "name": "python3",
      "display_name": "Python 3"
    },
    "language_info": {
      "name": "python"
    }
  },
  "cells": [
    {
      "cell_type": "markdown",
      "metadata": {
        "id": "view-in-github",
        "colab_type": "text"
      },
      "source": [
        "<a href=\"https://colab.research.google.com/github/Matheus0820/Introducao-a-Otimizacao/blob/main/Problema_de_forma%C3%A7%C3%A3o_de_equipe.ipynb\" target=\"_parent\"><img src=\"https://colab.research.google.com/assets/colab-badge.svg\" alt=\"Open In Colab\"/></a>"
      ]
    },
    {
      "cell_type": "markdown",
      "source": [
        "# Problema da formação de equipe em esporte aquatico\n",
        "## Descrição do problema:\n",
        "- Foi solicitado a criação de um algoritimo, no qual entre os 10 melhores jogadores forme uma equipe que minimize o tempo de prova\n",
        "\n",
        "## Paramêtros:\n",
        "- $n$: Quantidade de atletas\n",
        "- $m$: Quantidade de estilos de prova\n",
        "- $t_{ij}$: Tempo de execução do atleta $i$ na prova $j$\n",
        "\n",
        "## Variáveis:\n",
        "- $x_{ij}$: $\\begin{cases}\n",
        "      \\mbox{Atleta i recebe prova j}, & x = 1 \\\\\n",
        "      \\mbox{Atleta i não recebe proja j}, & x = 0\n",
        "  \\end{cases}$\n",
        "\n",
        "- $y_i$: $\\begin{cases}\n",
        "      \\mbox{Atleta i participa da equipe}, & x = 1 \\\\\n",
        "      \\mbox{Atleta i não participa da equipe}, & x = 0\n",
        "  \\end{cases}$\n",
        "\n",
        "## Função objetivo:\n",
        "\n",
        "$$\n",
        "\\mbox{min Z} = \\sum_{i = 1}^{n}\\sum_{j=1}^{m} t_{ij}x_{ij} \\tag{1}\n",
        "$$\n",
        "\n",
        "# Sujeito a:\n",
        "$$\n",
        "\\sum_{i = 1}^{n}x_{ij}y_i = 1, ∀ j = 1,..,m \\tag{2}\n",
        "$$\n",
        "\n",
        "$$\n",
        "\\sum_{j = 1}^{m}x_{ij} ≤ y_i, ∀ i = 1,..,n \\tag{3}\n",
        "$$\n",
        "\n",
        "$$\n",
        "\\sum_{i = 1}^{n}y_i = m \\tag{4}\n",
        "$$"
      ],
      "metadata": {
        "id": "v8XhKIJU65_L"
      }
    },
    {
      "cell_type": "markdown",
      "source": [
        "# Baixando pedências do AMPL"
      ],
      "metadata": {
        "id": "esorZiYt9d35"
      }
    },
    {
      "cell_type": "code",
      "source": [
        "%pip install -q amplpy\n",
        "from amplpy import AMPL, ampl_notebook\n",
        "ampl = ampl_notebook(\n",
        "    modules=[\"highs\", \"cbc\", \"gurobi\", \"cplex\"], # pick from over 20 modules including most commercial and open-source solvers\n",
        "    license_uuid=\"79c45049-0fee-47f7-a329-ec026ff58c82\") # your license UUID (e.g., free ampl.com/ce or ampl.com/courses licenses)"
      ],
      "metadata": {
        "colab": {
          "base_uri": "https://localhost:8080/"
        },
        "id": "IBJjqOVJ9iTR",
        "outputId": "9465f505-1e6e-4e33-afcc-abd6719dd243"
      },
      "execution_count": null,
      "outputs": [
        {
          "output_type": "stream",
          "name": "stdout",
          "text": [
            "\u001b[?25l   \u001b[90m━━━━━━━━━━━━━━━━━━━━━━━━━━━━━━━━━━━━━━━━\u001b[0m \u001b[32m0.0/5.7 MB\u001b[0m \u001b[31m?\u001b[0m eta \u001b[36m-:--:--\u001b[0m\r\u001b[2K   \u001b[91m━━━\u001b[0m\u001b[91m╸\u001b[0m\u001b[90m━━━━━━━━━━━━━━━━━━━━━━━━━━━━━━━━━━━━\u001b[0m \u001b[32m0.5/5.7 MB\u001b[0m \u001b[31m17.3 MB/s\u001b[0m eta \u001b[36m0:00:01\u001b[0m\r\u001b[2K   \u001b[91m━━━━━━━━━━━━━━━━━━━━━\u001b[0m\u001b[90m╺\u001b[0m\u001b[90m━━━━━━━━━━━━━━━━━━\u001b[0m \u001b[32m3.0/5.7 MB\u001b[0m \u001b[31m45.2 MB/s\u001b[0m eta \u001b[36m0:00:01\u001b[0m\r\u001b[2K   \u001b[91m━━━━━━━━━━━━━━━━━━━━━━━━━━━━━━━━━━━━━━━\u001b[0m\u001b[91m╸\u001b[0m \u001b[32m5.7/5.7 MB\u001b[0m \u001b[31m58.9 MB/s\u001b[0m eta \u001b[36m0:00:01\u001b[0m\r\u001b[2K   \u001b[91m━━━━━━━━━━━━━━━━━━━━━━━━━━━━━━━━━━━━━━━\u001b[0m\u001b[91m╸\u001b[0m \u001b[32m5.7/5.7 MB\u001b[0m \u001b[31m58.9 MB/s\u001b[0m eta \u001b[36m0:00:01\u001b[0m\r\u001b[2K   \u001b[90m━━━━━━━━━━━━━━━━━━━━━━━━━━━━━━━━━━━━━━━━\u001b[0m \u001b[32m5.7/5.7 MB\u001b[0m \u001b[31m36.0 MB/s\u001b[0m eta \u001b[36m0:00:00\u001b[0m\n",
            "\u001b[?25hLicensed to AMPL Academic Community Edition License for <matheus.ramos.703@ufrn.edu.br>.\n"
          ]
        }
      ]
    },
    {
      "cell_type": "markdown",
      "source": [
        "# Pegando dados e gerando arquivo dados.dat"
      ],
      "metadata": {
        "id": "XNnTG15V88Gy"
      }
    },
    {
      "cell_type": "code",
      "execution_count": null,
      "metadata": {
        "id": "V0s1pJM-6q6N",
        "colab": {
          "base_uri": "https://localhost:8080/"
        },
        "outputId": "6255f064-ae19-46c7-a9f8-8619dd332bbd"
      },
      "outputs": [
        {
          "output_type": "stream",
          "name": "stdout",
          "text": [
            "Arquivo dados.dat gerado com sucesso!\n"
          ]
        }
      ],
      "source": [
        "import json\n",
        "import numpy as np\n",
        "\n",
        "categorias = ['borboleta', 'costa', 'livre', 'peito']\n",
        "#atletas_tempo = np.zeros(40, 5)\n",
        "\n",
        "# Exportando dados de arquivo\n",
        "def exportar_dados(categorias):\n",
        "  lista_atletas = []\n",
        "  lista_tempo = []\n",
        "  for i in range(len(categorias)):\n",
        "    with open(f'ranking_{categorias[i]}.json', 'r') as f:\n",
        "      dados = json.load(f)['items'][:10]\n",
        "\n",
        "    for j in range(len(dados)):\n",
        "      lista_atletas.append(f'\"{dados[j][\"nome_evento\"]}\"')\n",
        "      if categorias[i] == 'borboleta':\n",
        "        lista_tempo.append([dados[j][\"tempo\"], 100000, 100000, 100000])\n",
        "      elif categorias[i] == 'costa':\n",
        "        lista_tempo.append([100000, dados[j][\"tempo\"], 100000, 100000])\n",
        "      elif categorias[i] == 'livre':\n",
        "        lista_tempo.append([100000, 100000, dados[j][\"tempo\"], 100000])\n",
        "      else:\n",
        "        lista_tempo.append([100000, 100000, 100000, dados[j][\"tempo\"]])\n",
        "\n",
        "  return lista_atletas, lista_tempo\n",
        "\n",
        "# Formatando dados para tabela do AMPL\n",
        "atletas, t_ij = exportar_dados(categorias)\n",
        "\n",
        "atletas = f\"param atletas := \\n\" + \"\\n\".join([f\"{i+1} {atletas[i]}\" for i in range(len(atletas))]) + \";\"\n",
        "estilo = f\"param estilo := \\n\" + \"\\n\".join([f\"{i+1} {categorias[i]}\" for i in range(len(categorias))]) + \";\"\n",
        "t_ij = f\"param t : 1 2 3 4 := \\n\" + \"\\n\".join(f\"{i+1} {t_ij[i][0]} {t_ij[i][1]} {t_ij[i][2]} {t_ij[i][3]}\" for i in range(len(t_ij))) + \";\"\n",
        "\n",
        "dados_gerais = \"param n := 40; \\nparam m := 4;\" + \"\\n\" + atletas + \"\\n\" + estilo + \"\\n\" + t_ij\n",
        "\n",
        "# Colocando dados dentro do arquivo dados.dat\n",
        "with open('dados.dat', 'w') as f:\n",
        "  f.write(dados_gerais)\n",
        "  print(\"Arquivo dados.dat gerado com sucesso!\")\n"
      ]
    },
    {
      "cell_type": "markdown",
      "source": [
        "# Arquivo modelo.mod"
      ],
      "metadata": {
        "id": "Zk5k4ZbD9JHK"
      }
    },
    {
      "cell_type": "code",
      "source": [
        "%%writefile modelo.mod\n",
        "param n >= 1;\n",
        "param m >= 1;\n",
        "param atletas {1..n} symbolic;\n",
        "param estilo {1..m} symbolic;\n",
        "param t {1..n, 1..m};\n",
        "\n",
        "var x {1..n, 1..m} binary;\n",
        "var y {1..n} binary;\n",
        "\n",
        "minimize Z: sum{i in 1..n, j in 1..m} t[i,j]*x[i,j];\n",
        "\n",
        "subject to rest1 {j in 1..m}: sum{i in 1..n} x[i, j] * y[i] == 1;\n",
        "subject to rest2 {i in 1..n}: sum{j in 1..m} x[i, j] <= y[i];\n",
        "subject to rest3: sum{i in 1..n} y[i] == m;"
      ],
      "metadata": {
        "id": "R1cY46Da9NFC",
        "colab": {
          "base_uri": "https://localhost:8080/"
        },
        "outputId": "590477f9-33ce-4409-a76c-148001e6b19f"
      },
      "execution_count": null,
      "outputs": [
        {
          "output_type": "stream",
          "name": "stdout",
          "text": [
            "Overwriting modelo.mod\n"
          ]
        }
      ]
    },
    {
      "cell_type": "markdown",
      "source": [
        "# Configurando e execultando algoritimo\n",
        "> Usando o: **%%ampl_eval**"
      ],
      "metadata": {
        "id": "HAtddZp99Ncq"
      }
    },
    {
      "cell_type": "code",
      "source": [
        "%%ampl_eval\n",
        "reset;\n",
        "model modelo.mod;\n",
        "data dados.dat;\n",
        "option solver cplex;\n",
        "solve;\n",
        "display Z;\n",
        "\n",
        "printf \"Atletas selecionados: \\n\";\n",
        "for{i in 1..n, j in 1..m} {\n",
        "    if x[i, j] == 1 then {\n",
        "        printf \"- %s - Estilo: %s\\n\", atletas[i], estilo[j];\n",
        "    }\n",
        "}\n",
        "\n"
      ],
      "metadata": {
        "id": "4L2iHf4J9Vf7",
        "colab": {
          "base_uri": "https://localhost:8080/"
        },
        "outputId": "ee7d5da1-192a-488d-e345-02ad47906307"
      },
      "execution_count": null,
      "outputs": [
        {
          "output_type": "stream",
          "name": "stdout",
          "text": [
            "CPLEX 22.1.2: \b\b\b\b\b\b\b\b\b\b\b\b\b\bCPLEX 22.1.2: optimal solution; objective 21888\n",
            "4 simplex iterations\n",
            "Z = 21888\n",
            "\n",
            "Atletas selecionados: \n",
            "- ARTHUR ALMEIDA PINHEIRO - Estilo: borboleta\n",
            "- GUILHERME AUGUSTO PAGUNG - Estilo: costa\n",
            "- JOÃO NUNES NETO - Estilo: livre\n",
            "- KAUÃ SANTOS CARVALHO - Estilo: peito\n"
          ]
        }
      ]
    }
  ]
}