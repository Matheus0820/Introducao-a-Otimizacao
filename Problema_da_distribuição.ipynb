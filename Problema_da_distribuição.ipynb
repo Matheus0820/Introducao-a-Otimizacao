{
  "nbformat": 4,
  "nbformat_minor": 0,
  "metadata": {
    "colab": {
      "provenance": [],
      "authorship_tag": "ABX9TyNoAK0vD5vxfJBJAYK55eVw",
      "include_colab_link": true
    },
    "kernelspec": {
      "name": "python3",
      "display_name": "Python 3"
    },
    "language_info": {
      "name": "python"
    }
  },
  "cells": [
    {
      "cell_type": "markdown",
      "metadata": {
        "id": "view-in-github",
        "colab_type": "text"
      },
      "source": [
        "<a href=\"https://colab.research.google.com/github/Matheus0820/Introducao-a-Otimizacao/blob/main/Problema_da_distribui%C3%A7%C3%A3o.ipynb\" target=\"_parent\"><img src=\"https://colab.research.google.com/assets/colab-badge.svg\" alt=\"Open In Colab\"/></a>"
      ]
    },
    {
      "cell_type": "markdown",
      "source": [
        "# Problema da distribuição\n",
        "\n",
        "## Descrição do Problema\n",
        "\n",
        "Você foi contratado por uma empresa do ramo de bebidas para resolver o problema que é descrito a seguir, tendo em vista a proximidade do feriado de carnaval.\n",
        "\n",
        "A empresa possui $m$ fábricas, $n$ centros de distribuição e $p$ clientes que devem ser atendidos. As fábricas, centros de distribuição e clientes estão localizados em diversos locais pelo Brasil. Portanto, o custo de transporte de produtos entre fábricas e centros, bem como centros e clientes, pode variar de acordo com a distância, pedágios ou até mesmo o modal que é utilizado para fazer este transporte.\n",
        "\n",
        "Considerando um produto específico, a empresa estima que no feriado de carnaval cada cliente $k~(k=1, 2, ..., p)$ terá uma demanda específica de $d_k$ unidades por este produto.\n",
        "\n",
        "A empresa estima também que produzir uma unidade do produto na fábrica $i$ e transportá-la para o centro de distribuição $j$ tem um custo $c_{ij}$, para todo $i=1, 2, ..., m$ e para todo $j=1, 2, ..., n$. De maneira similar, armazenar e transportar uma unidade do produto do centro de distribuição $j$ para o cliente $k$ apresenta um custo $t_{jk}$, para todo $j=1, 2, ..., n$ e para todo $k=1,2, ...,p$.\n",
        "\n",
        "Em relação ao processo de **produção**, sabe-se que uma fábrica $i$ tem um custo fixo de produção $f_i$. Isto é, se ela é usada para produzir uma ou mais unidades do produto, há um custo a ser pago, relacionado à configuração da linha de produção, funcionários, dentre outros recursos operacionais que serão disponibilizados. Cada uma destas fábricas possui também uma capacidade de produção, representada por $g_i$.\n",
        "\n",
        "Em relação ao processo de **distruibuição**, sabe-se que um centro $j$ tem um custo fixo de operação $h_j$. Isto é, se ele é usado armazenar e transportar uma ou mais unidades do produto, há um custo a ser pago, relacionado à configuração do centro, como alocação dos funcionários, destinação do espaço, energia elétrica, dentre outros recursos. Cada um destes centros possui também uma capacidade de armazenando e processamento, representado por $q_j$."
      ],
      "metadata": {
        "id": "2N85XTllFi0I"
      }
    },
    {
      "cell_type": "markdown",
      "source": [
        "## Carregando depedências do AMPL\n"
      ],
      "metadata": {
        "id": "k45tSlEW0oou"
      }
    },
    {
      "cell_type": "code",
      "source": [
        "%pip install -q amplpy\n",
        "from amplpy import AMPL, ampl_notebook\n",
        "ampl = ampl_notebook(\n",
        "    modules=[\"highs\", \"cbc\", \"gurobi\", \"cplex\"], # pick from over 20 modules including most commercial and open-source solvers\n",
        "    license_uuid=\"79c45049-0fee-47f7-a329-ec026ff58c82\") # your license UUID (e.g., free ampl.com/ce or ampl.com/courses licenses)"
      ],
      "metadata": {
        "colab": {
          "base_uri": "https://localhost:8080/"
        },
        "id": "9yJT97G80xg_",
        "outputId": "48fbdbcf-40dd-4b39-ad73-4250e7b14346"
      },
      "execution_count": null,
      "outputs": [
        {
          "output_type": "stream",
          "name": "stdout",
          "text": [
            "\u001b[2K   \u001b[90m━━━━━━━━━━━━━━━━━━━━━━━━━━━━━━━━━━━━━━━━\u001b[0m \u001b[32m5.7/5.7 MB\u001b[0m \u001b[31m34.0 MB/s\u001b[0m eta \u001b[36m0:00:00\u001b[0m\n",
            "\u001b[?25hLicensed to AMPL Academic Community Edition License for <matheus.ramos.703@ufrn.edu.br>.\n"
          ]
        }
      ]
    },
    {
      "cell_type": "markdown",
      "source": [
        "## Paramêtros:\n",
        "- $m$: Quantidade de fábricas;\n",
        "- $n$: Quantidade de centros de distribuição;\n",
        "- $p$: Quantidade de clientes;\n",
        "- $d_k$: Demanda de clientes $k$ por unidade de certo produto;\n",
        "- $c_{ij}$: Custo de produto na **fabrica** $i$ e transporte para **distribuidora** $j$;\n",
        "- $t_{jk}$: Custo de transporte de uma unidade da **distribuidora** $j$ para um **cliente** $p$;\n",
        "- $f_i$: Custo de produção da **fabrica** $i$;\n",
        "- $g_i$: Capacidade de produção da **fabrica** $i$;\n",
        "- $h_j$: Custo de operação da **distribuidora** $j$;\n",
        "- $q_j$: Capacidade da **distribuidora** $j$;\n",
        "\n",
        "## Variáveis:\n",
        "- $x_{ij} \\in \\mathbb{R}^+$ : Quantidade de produtos levado da fabrica $i$ para distribuidora $j$\n",
        "\n",
        "- $y_{jk} \\in \\mathbb{R}^+$ : Quantidade de produtos levados da distribuidora $j$ para o cliente $k$\n",
        "\n",
        "- $x'_i$ = $\\begin{cases}\n",
        "      \\mbox{1, se Fabrica i é usada} \\\\\n",
        "      \\mbox{0, caso contrário}\n",
        "  \\end{cases}$\n",
        "\n",
        "- $y'_j$ = $\\begin{cases}\n",
        "      \\mbox{1, se o centro de distribuição j é usada} \\\\\n",
        "      \\mbox{0, caso contrário}\n",
        "  \\end{cases}$\n",
        "\n",
        "## Função objetivo:\n",
        "\n",
        "$$\n",
        "\\mbox{min Z} = \\sum_{i = 1}^{m} \\left[ f_i x'_i + \\sum_{j = 1}^{n} c_{ij}x_{ij} \\right] + \\sum_{j = 1}^{n} \\left[ h_j y'_j + \\sum_{k = 1}^{p} t_{jk}y_{jk} \\right] \\tag{1}\n",
        "$$\n",
        "\n",
        "## Sujeito a:\n",
        "$$\n",
        "\\sum_{j = 1}^{n}x_{ij} \\leq g_ix'_i, ∀ i = 1..m \\tag{2}\n",
        "$$\n",
        "\n",
        "$$\n",
        "\\sum_{k = 1}^{p} y_{jk} \\leq q_jy'_j, ∀ j = 1..n \\tag{3}\n",
        "$$\n",
        "\n",
        "$$\n",
        "\\sum_{i = 1}^{m} \\sum_{j = 1}^{n} x_{ij} = \\sum_{k = 1}^{p} d_k \\tag{4}  \n",
        "$$\n"
      ],
      "metadata": {
        "id": "qvx7MLi3F4FR"
      }
    },
    {
      "cell_type": "markdown",
      "source": [
        "## Arquivo dados.dat"
      ],
      "metadata": {
        "id": "b6jjgJMy1MQm"
      }
    },
    {
      "cell_type": "code",
      "execution_count": null,
      "metadata": {
        "id": "49SSEkx4FaC5",
        "colab": {
          "base_uri": "https://localhost:8080/"
        },
        "outputId": "a3c73971-d85e-4d9a-d365-c84c1af53010"
      },
      "outputs": [
        {
          "output_type": "stream",
          "name": "stdout",
          "text": [
            "Writing dados.dat\n"
          ]
        }
      ],
      "source": [
        "%%writefile dados.dat\n",
        "param m := 2;\n",
        "param n := 3;\n",
        "param p := 3;\n",
        "param d :=\n",
        "1 80\n",
        "2 90\n",
        "3 40;\n",
        "param c :\t 1\t2\t 3 :=\n",
        "1\t10\t8\t20\n",
        "2\t20\t6\t11;\n",
        "param t :\t 1\t2\t 3 :=\n",
        "1\t 7\t5\t10\n",
        "2\t 5\t4\t3\n",
        "3\t10\t8\t6;\n",
        "\n",
        "param f :=\n",
        "1 300\n",
        "2 250;\n",
        "param g :=\n",
        "1 120\n",
        "2 100;\n",
        "param h :=\n",
        "1 60\n",
        "2 80\n",
        "3 100;\n",
        "param q :=\n",
        "1 70\n",
        "2 90\n",
        "3 66;\n"
      ]
    },
    {
      "cell_type": "markdown",
      "source": [
        "## Arquivo modelo.mod"
      ],
      "metadata": {
        "id": "RWyyoCYU1Y8_"
      }
    },
    {
      "cell_type": "code",
      "source": [
        "%%writefile modelo.mod\n",
        "param m >= 1;\n",
        "param n >= 1;\n",
        "param p >= 1;\n",
        "param d {1..p};\n",
        "param c {1..m, 1..n};\n",
        "param t {1..n, 1..p};\n",
        "param f {1..m};\n",
        "param g {1..m};\n",
        "param h {1..n};\n",
        "param q {1..n};\n",
        "\n",
        "var x {1..m, 1..n} >= 0;\n",
        "var y {1..n, 1..p} >= 0;\n",
        "var x_ {1..m} binary;\n",
        "var y_ {1..n} binary;\n",
        "\n",
        "minimize Z: sum{i in 1..m} (f[i]*x_[i] + sum{j in 1..n} (c[i,j]*x[i,j])) + sum{j in 1..n} (h[j]*y_[j] + sum{k in 1..p} (t[j,k]*y[j,k]));\n",
        "\n",
        "subject to capacidade_fabrica {i in 1..m}: sum{j in 1..n} x[i,j] <= g[i]*x_[i];\n",
        "subject to capacidade_transportadora {j in 1..n}: sum{k in 1..p} y[j,k] <= q[j]*y_[j];\n",
        "subject to demanda: sum{i in 1..m, j in 1..n} x[i,j] == sum{k in 1..p} d[k];"
      ],
      "metadata": {
        "id": "Lcgdgqmr1YUe",
        "colab": {
          "base_uri": "https://localhost:8080/"
        },
        "outputId": "b54f0bce-0ce6-430e-b0cc-2a523132abd2"
      },
      "execution_count": null,
      "outputs": [
        {
          "output_type": "stream",
          "name": "stdout",
          "text": [
            "Overwriting modelo.mod\n"
          ]
        }
      ]
    },
    {
      "cell_type": "markdown",
      "source": [
        "## Cofingurando e execultando o algoritimo\n",
        "> Usando a tag ***%%ampl_eval***"
      ],
      "metadata": {
        "id": "z3JVogLy132W"
      }
    },
    {
      "cell_type": "code",
      "source": [
        "%%ampl_eval\n",
        "reset;\n",
        "model modelo.mod;\n",
        "data dados.dat;\n",
        "option solver cplex;\n",
        "solve;\n",
        "display Z;"
      ],
      "metadata": {
        "id": "Cq94fsvi2EWW",
        "colab": {
          "base_uri": "https://localhost:8080/"
        },
        "outputId": "735ef1ad-cb45-434c-d005-943d271bba9b"
      },
      "execution_count": null,
      "outputs": [
        {
          "output_type": "stream",
          "name": "stdout",
          "text": [
            "CPLEX 22.1.2: \b\b\b\b\b\b\b\b\b\b\b\b\b\bCPLEX 22.1.2: optimal solution; objective 2030\n",
            "0 simplex iterations\n",
            "Z = 2030\n",
            "\n"
          ]
        }
      ]
    }
  ]
}