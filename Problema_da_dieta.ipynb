{
  "nbformat": 4,
  "nbformat_minor": 0,
  "metadata": {
    "colab": {
      "provenance": [],
      "include_colab_link": true
    },
    "kernelspec": {
      "name": "python3",
      "display_name": "Python 3"
    },
    "language_info": {
      "name": "python"
    }
  },
  "cells": [
    {
      "cell_type": "markdown",
      "metadata": {
        "id": "view-in-github",
        "colab_type": "text"
      },
      "source": [
        "<a href=\"https://colab.research.google.com/github/Matheus0820/Introducao-a-Otimizacao/blob/main/Problema_da_dieta.ipynb\" target=\"_parent\"><img src=\"https://colab.research.google.com/assets/colab-badge.svg\" alt=\"Open In Colab\"/></a>"
      ]
    },
    {
      "cell_type": "markdown",
      "source": [
        "> Problema da Dieta\n",
        "- O problema consiste em selecionar os alimentos de uma forma que a minimizar o custo e que o valor nutriconal não seja inferior a certas quantidade e o valor calório seja no máximo igual a **2000kcal**.\n",
        "\n",
        "\n"
      ],
      "metadata": {
        "id": "VwIvnywgKth_"
      }
    },
    {
      "cell_type": "markdown",
      "source": [
        "Parâmetros:\n",
        "- $m$: Quantidade de alimentos\n",
        "- $n$: Quantidade de nutrientes\n",
        "- $c_i$ : Custo do alimento $i$\n",
        "- $cal_i$ : Calorias no alimento $i$\n",
        "- $nut_{ij}$ : Quantidade do nutriente $j$ no alimento $i$\n",
        "- $\\underline{nut}_j$ : Minimo do nutriente j a ser atendido\n",
        "- $\\overline{CAL}$: Total de calorias máximo\n",
        "\n",
        "Variáveis de decisão:\n",
        "\n",
        "$$\n",
        "x_i \\in \\mathbb{R}_{+} \\tag{1}\n",
        "$$\n",
        "\n",
        "\n",
        "\n",
        "Função:\n",
        "\n",
        "$$\n",
        "\\text{min}~Z =  \\sum_{j=1}^{n} c_ix_i \\tag{2}\n",
        "$$\n",
        "\n",
        "Sujeito a:\n",
        "\n",
        "$$\n",
        "\\sum_{i=1}^{n} cal_ix_i \\leq \\overline{CAL} \\tag{3}\n",
        "$$\n",
        "\n",
        "$$\n",
        "\\sum_{i=1}^{m} nut_{ij}x_i \\geq \\underline{nut}_j,~∀ j=1,...,n\n",
        "$$"
      ],
      "metadata": {
        "id": "lQ3MxoBFNy3J"
      }
    },
    {
      "cell_type": "markdown",
      "source": [
        "# Configurando o AMPL"
      ],
      "metadata": {
        "id": "diLwCr2Li0UU"
      }
    },
    {
      "cell_type": "code",
      "execution_count": null,
      "metadata": {
        "id": "obDbjoApKnxV",
        "colab": {
          "base_uri": "https://localhost:8080/"
        },
        "outputId": "291cca9f-3dcb-4f7b-dae5-e76526758281"
      },
      "outputs": [
        {
          "output_type": "stream",
          "name": "stdout",
          "text": [
            "\u001b[?25l   \u001b[90m━━━━━━━━━━━━━━━━━━━━━━━━━━━━━━━━━━━━━━━━\u001b[0m \u001b[32m0.0/5.7 MB\u001b[0m \u001b[31m?\u001b[0m eta \u001b[36m-:--:--\u001b[0m\r\u001b[2K   \u001b[91m━\u001b[0m\u001b[90m╺\u001b[0m\u001b[90m━━━━━━━━━━━━━━━━━━━━━━━━━━━━━━━━━━━━━━\u001b[0m \u001b[32m0.2/5.7 MB\u001b[0m \u001b[31m6.2 MB/s\u001b[0m eta \u001b[36m0:00:01\u001b[0m\r\u001b[2K   \u001b[91m━━━━━━━━━━━\u001b[0m\u001b[91m╸\u001b[0m\u001b[90m━━━━━━━━━━━━━━━━━━━━━━━━━━━━\u001b[0m \u001b[32m1.6/5.7 MB\u001b[0m \u001b[31m24.3 MB/s\u001b[0m eta \u001b[36m0:00:01\u001b[0m\r\u001b[2K   \u001b[91m━━━━━━━━━━━━━━━━━━━━━━━━━━━\u001b[0m\u001b[91m╸\u001b[0m\u001b[90m━━━━━━━━━━━━\u001b[0m \u001b[32m3.9/5.7 MB\u001b[0m \u001b[31m37.7 MB/s\u001b[0m eta \u001b[36m0:00:01\u001b[0m\r\u001b[2K   \u001b[91m━━━━━━━━━━━━━━━━━━━━━━━━━━━━━━━━━━━━━━━\u001b[0m\u001b[91m╸\u001b[0m \u001b[32m5.7/5.7 MB\u001b[0m \u001b[31m43.3 MB/s\u001b[0m eta \u001b[36m0:00:01\u001b[0m\r\u001b[2K   \u001b[91m━━━━━━━━━━━━━━━━━━━━━━━━━━━━━━━━━━━━━━━\u001b[0m\u001b[91m╸\u001b[0m \u001b[32m5.7/5.7 MB\u001b[0m \u001b[31m43.3 MB/s\u001b[0m eta \u001b[36m0:00:01\u001b[0m\r\u001b[2K   \u001b[90m━━━━━━━━━━━━━━━━━━━━━━━━━━━━━━━━━━━━━━━━\u001b[0m \u001b[32m5.7/5.7 MB\u001b[0m \u001b[31m30.8 MB/s\u001b[0m eta \u001b[36m0:00:00\u001b[0m\n",
            "\u001b[?25hLicensed to AMPL Academic Community Edition License for <matheus.ramos.703@ufrn.edu.br>.\n"
          ]
        }
      ],
      "source": [
        "%pip install -q amplpy\n",
        "from amplpy import AMPL, ampl_notebook\n",
        "ampl = ampl_notebook(\n",
        "    modules=[\"highs\", \"cbc\", \"gurobi\", \"cplex\"], # pick from over 20 modules including most commercial and open-source solvers\n",
        "    license_uuid=\"79c45049-0fee-47f7-a329-ec026ff58c82\") # your license UUID (e.g., free ampl.com/ce or ampl.com/courses licenses)"
      ]
    },
    {
      "cell_type": "markdown",
      "source": [
        "# Arquivo .dat"
      ],
      "metadata": {
        "id": "TjzfveGtjDGU"
      }
    },
    {
      "cell_type": "code",
      "source": [
        "%%writefile dieta.dat\n",
        "param m := 13;\n",
        "param n := 5;\n",
        "param CAL_max := 2000;\n",
        "param : nut_j:=\n",
        "      1 46\n",
        "      2 1\n",
        "      3 1.5\n",
        "      4 0.018\n",
        "      5 0.771;"
      ],
      "metadata": {
        "id": "tiUKdzZvMrLK",
        "colab": {
          "base_uri": "https://localhost:8080/"
        },
        "outputId": "e08221f9-78ed-44b4-e8d3-04f31140858b"
      },
      "execution_count": null,
      "outputs": [
        {
          "output_type": "stream",
          "name": "stdout",
          "text": [
            "Overwriting dieta.dat\n"
          ]
        }
      ]
    },
    {
      "cell_type": "code",
      "source": [
        "import pandas as pd\n",
        "\n",
        "# Lendo os dados do arquivo dados.csv e guardando como um dataframe\n",
        "df = pd.read_csv('dados.csv')\n",
        "\n",
        "# Pegando o valor do custo, calorias e nutricionais de cada alimento no dataframe\n",
        "custo = \"param custo := \" + \"\\n\".join(f\"{i+1} {v}\" for i, v in enumerate(df.values[0][1:])) + \";\"\n",
        "calorias = \"param cal := \" + \"\\n\".join(f\"{i+1} {v}\" for i, v in enumerate(df.values[1][1:])) + \";\"\n",
        "alimento = \"param alimento := \" + \"\\n\".join(f'{i+1} \"{v}\"' for i, v in enumerate(df.columns[1:])) + \";\"\n",
        "\n",
        "nut_linha = list(\" \".join(map(str, linha)) for linha in df.values[2:, 1:].T)\n",
        "nut = \"param nut_ij: 1 2 3 4 5 := \"\n",
        "nut += \"\\n\".join(f\"{i+1} {v}\" for i, v in enumerate(nut_linha)) + \" ;\"\n",
        "\n",
        "# Gravando no aquivo dieta.dat\n",
        "with open('dieta.dat', 'a') as f:\n",
        "  f.write(alimento + \"\\n\")\n",
        "  f.write(custo + \"\\n\")\n",
        "  f.write(calorias + \"\\n\")\n",
        "  f.write(nut + \"\\n\")\n",
        "  print(\"Gravado em dieta.dat\")"
      ],
      "metadata": {
        "colab": {
          "base_uri": "https://localhost:8080/"
        },
        "id": "E-hmbCugog1C",
        "outputId": "cf65650c-1d4b-40d5-d598-cea747032f5c"
      },
      "execution_count": null,
      "outputs": [
        {
          "output_type": "stream",
          "name": "stdout",
          "text": [
            "Gravado em dieta.dat\n"
          ]
        }
      ]
    },
    {
      "cell_type": "markdown",
      "source": [
        "# Arquivo .mod"
      ],
      "metadata": {
        "id": "Iupg6ifNIwJG"
      }
    },
    {
      "cell_type": "code",
      "source": [
        "%%writefile dieta.mod\n",
        "param m >= 0;\n",
        "param n >= 0;\n",
        "param CAL_max >= 0;\n",
        "param custo {1..m} >= 0;\n",
        "param cal {1..m} >= 0;\n",
        "param nut_ij {1..m, 1..n} >= 0;\n",
        "param nut_j {1..n} >= 0;\n",
        "param alimento {1..m} symbolic;\n",
        "\n",
        "var x {1..m} >= 0;\n",
        "\n",
        "minimize Z: sum{i in 1..m} custo[i]*x[i];\n",
        "\n",
        "subject to calorias: sum{i in 1..m} cal[i]*x[i] <= CAL_max;\n",
        "subject to nutriente {j in 1..n}: sum{i in 1..m} nut_ij[i, j]*x[i] >= nut_j[j];\n",
        "\n",
        "\n",
        "\n"
      ],
      "metadata": {
        "colab": {
          "base_uri": "https://localhost:8080/"
        },
        "id": "jQlm0QHfIzX2",
        "outputId": "377f4bd8-0aab-4dff-c240-5db01add8742"
      },
      "execution_count": null,
      "outputs": [
        {
          "output_type": "stream",
          "name": "stdout",
          "text": [
            "Overwriting dieta.mod\n"
          ]
        }
      ]
    },
    {
      "cell_type": "markdown",
      "source": [
        "# Arquivo .run"
      ],
      "metadata": {
        "id": "vWZOtJirI2JO"
      }
    },
    {
      "cell_type": "code",
      "source": [
        "%%writefile dieta.run\n",
        "reset;\n",
        "model dieta.mod;\n",
        "data dieta.dat;\n",
        "option solver cplex;\n",
        "solve;\n",
        "display Z;\n",
        "printf \"Alimentos escolhidos: \\n\";\n",
        "for{i in 1..m} {\n",
        "  if x[i] != 0 then\n",
        "  {\n",
        "    printf \" %s\\n\", alimento[i];\n",
        "  }\n",
        "}"
      ],
      "metadata": {
        "colab": {
          "base_uri": "https://localhost:8080/"
        },
        "id": "DoSx859rI59e",
        "outputId": "6c5c9438-eccd-4787-b403-fcab9b3f9952"
      },
      "execution_count": null,
      "outputs": [
        {
          "output_type": "stream",
          "name": "stdout",
          "text": [
            "Overwriting dieta.run\n"
          ]
        }
      ]
    },
    {
      "cell_type": "markdown",
      "source": [
        "# Execultando a resolução do problema"
      ],
      "metadata": {
        "id": "XExWBKPlI6RO"
      }
    },
    {
      "cell_type": "code",
      "source": [
        "%%shell\n",
        "ampl dieta.run"
      ],
      "metadata": {
        "colab": {
          "base_uri": "https://localhost:8080/"
        },
        "id": "lv7i6U0aJCmO",
        "outputId": "c46369ef-eddf-4a4d-b2ba-2340dc4c13a2"
      },
      "execution_count": null,
      "outputs": [
        {
          "output_type": "stream",
          "name": "stdout",
          "text": [
            "CPLEX 22.1.2: \b\b\b\b\b\b\b\b\b\b\b\b\b\bCPLEX 22.1.2: optimal solution; objective 13.22759549\n",
            "4 simplex iterations\n",
            "Z = 13.2276\n",
            "\n",
            "Alimentos escolhidos: \n",
            " pão integral\n",
            " salada crua\n",
            " frango grelhado\n",
            " iogurte\n"
          ]
        },
        {
          "output_type": "execute_result",
          "data": {
            "text/plain": []
          },
          "metadata": {},
          "execution_count": 110
        }
      ]
    }
  ]
}